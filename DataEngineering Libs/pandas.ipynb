{
 "cells": [
  {
   "cell_type": "code",
   "execution_count": 3,
   "metadata": {},
   "outputs": [
    {
     "name": "stdout",
     "output_type": "stream",
     "text": [
      "Defaulting to user installation because normal site-packages is not writeableNote: you may need to restart the kernel to use updated packages.\n",
      "\n",
      "Requirement already satisfied: pandas in c:\\users\\suman\\appdata\\roaming\\python\\python311\\site-packages (2.1.3)\n",
      "Requirement already satisfied: numpy<2,>=1.23.2 in c:\\users\\suman\\appdata\\roaming\\python\\python311\\site-packages (from pandas) (1.26.2)\n",
      "Requirement already satisfied: python-dateutil>=2.8.2 in c:\\users\\suman\\appdata\\roaming\\python\\python311\\site-packages (from pandas) (2.8.2)\n",
      "Requirement already satisfied: pytz>=2020.1 in c:\\users\\suman\\appdata\\roaming\\python\\python311\\site-packages (from pandas) (2023.3.post1)\n",
      "Requirement already satisfied: tzdata>=2022.1 in c:\\users\\suman\\appdata\\roaming\\python\\python311\\site-packages (from pandas) (2023.3)\n",
      "Requirement already satisfied: six>=1.5 in c:\\users\\suman\\appdata\\roaming\\python\\python311\\site-packages (from python-dateutil>=2.8.2->pandas) (1.16.0)\n"
     ]
    },
    {
     "name": "stderr",
     "output_type": "stream",
     "text": [
      "\n",
      "[notice] A new release of pip is available: 24.2 -> 24.3.1\n",
      "[notice] To update, run: python.exe -m pip install --upgrade pip\n"
     ]
    }
   ],
   "source": [
    "pip  install pandas"
   ]
  },
  {
   "cell_type": "code",
   "execution_count": 7,
   "metadata": {},
   "outputs": [],
   "source": [
    "import pandas as pd\n",
    "import numpy as np"
   ]
  },
  {
   "cell_type": "code",
   "execution_count": 5,
   "metadata": {},
   "outputs": [
    {
     "name": "stdout",
     "output_type": "stream",
     "text": [
      "Series([], dtype: object)\n"
     ]
    }
   ],
   "source": [
    "x = pd.Series()  \n",
    "print (x)  "
   ]
  },
  {
   "cell_type": "code",
   "execution_count": 8,
   "metadata": {},
   "outputs": [
    {
     "name": "stdout",
     "output_type": "stream",
     "text": [
      "0    P\n",
      "1    a\n",
      "2    n\n",
      "3    d\n",
      "4    a\n",
      "5    s\n",
      "dtype: object\n"
     ]
    }
   ],
   "source": [
    "info = np.array(['P','a','n','d','a','s'])  \n",
    "a = pd.Series(info)  \n",
    "print(a)  "
   ]
  },
  {
   "cell_type": "code",
   "execution_count": 9,
   "metadata": {},
   "outputs": [
    {
     "name": "stdout",
     "output_type": "stream",
     "text": [
      "x    0.0\n",
      "y    1.0\n",
      "z    2.0\n",
      "dtype: float64\n"
     ]
    }
   ],
   "source": [
    "info = {'x' : 0., 'y' : 1., 'z' : 2.}  \n",
    "a = pd.Series(info)  \n",
    "print (a)  "
   ]
  },
  {
   "cell_type": "code",
   "execution_count": 10,
   "metadata": {},
   "outputs": [
    {
     "name": "stdout",
     "output_type": "stream",
     "text": [
      "0    4\n",
      "1    4\n",
      "2    4\n",
      "3    4\n",
      "dtype: int64\n"
     ]
    }
   ],
   "source": [
    "x = pd.Series(4, index=[0, 1, 2, 3])  \n",
    "print (x)  "
   ]
  },
  {
   "cell_type": "code",
   "execution_count": 12,
   "metadata": {},
   "outputs": [
    {
     "name": "stdout",
     "output_type": "stream",
     "text": [
      "1\n"
     ]
    },
    {
     "name": "stderr",
     "output_type": "stream",
     "text": [
      "C:\\Users\\suman\\AppData\\Local\\Temp\\ipykernel_1240\\484470235.py:2: FutureWarning: Series.__getitem__ treating keys as positions is deprecated. In a future version, integer keys will always be treated as labels (consistent with DataFrame behavior). To access a value by position, use `ser.iloc[pos]`\n",
      "  print (x[0])\n"
     ]
    }
   ],
   "source": [
    "x = pd.Series([1,2,3],index = ['a','b','c'])  \n",
    "print (x[0]) "
   ]
  },
  {
   "cell_type": "code",
   "execution_count": 13,
   "metadata": {},
   "outputs": [
    {
     "name": "stdout",
     "output_type": "stream",
     "text": [
      "RangeIndex(start=0, stop=4, step=1)\n",
      "[2 4 6 8]\n",
      "Index(['a', 'b', 'c'], dtype='object')\n",
      "[11.2 18.6 22.5]\n"
     ]
    }
   ],
   "source": [
    "x=pd.Series(data=[2,4,6,8])   \n",
    "y=pd.Series(data=[11.2,18.6,22.5], index=['a','b','c'])   \n",
    "print(x.index)   \n",
    "print(x.values)   \n",
    "print(y.index)   \n",
    "print(y.values) "
   ]
  },
  {
   "cell_type": "code",
   "execution_count": 20,
   "metadata": {},
   "outputs": [
    {
     "name": "stdout",
     "output_type": "stream",
     "text": [
      "int64\n",
      "float64\n"
     ]
    }
   ],
   "source": [
    "a=pd.Series(data=[1,2,3,4])   \n",
    "b=pd.Series(data=[4.9,8.2,5.6],index=['x','y','z'])  \n",
    "print(a.dtype)   \n",
    "print(b.dtype)   \n"
   ]
  },
  {
   "cell_type": "code",
   "execution_count": 21,
   "metadata": {},
   "outputs": [
    {
     "name": "stdout",
     "output_type": "stream",
     "text": [
      "(4,)\n",
      "(3,)\n"
     ]
    }
   ],
   "source": [
    "a=pd.Series(data=[1,2,3,4])   \n",
    "b=pd.Series(data=[4.9,8.2,5.6],index=['x','y','z'])   \n",
    "print(a.shape)   \n",
    "print(b.shape) "
   ]
  },
  {
   "cell_type": "code",
   "execution_count": 22,
   "metadata": {},
   "outputs": [
    {
     "name": "stdout",
     "output_type": "stream",
     "text": [
      "1 1\n",
      "4 3\n",
      "32 24\n"
     ]
    }
   ],
   "source": [
    "a=pd.Series(data=[1,2,3,4])   \n",
    "b=pd.Series(data=[4.9,8.2,5.6],  \n",
    "index=['x','y','z'])   \n",
    "print(a.ndim, b.ndim)   \n",
    "print(a.size, b.size)   \n",
    "print(a.nbytes, b.nbytes) "
   ]
  },
  {
   "cell_type": "code",
   "execution_count": 23,
   "metadata": {},
   "outputs": [
    {
     "name": "stdout",
     "output_type": "stream",
     "text": [
      "False False True\n",
      "True False False\n",
      "4 3\n",
      "3 3\n"
     ]
    }
   ],
   "source": [
    "a=pd.Series(data=[1,2,3,np.NaN])   \n",
    "b=pd.Series(data=[4.9,8.2,5.6],index=['x','y','z'])   \n",
    "c=pd.Series()   \n",
    "print(a.empty,b.empty,c.empty)   \n",
    "print(a.hasnans,b.hasnans,c.hasnans)   \n",
    "print(len(a),len(b))   \n",
    "print(a.count( ),b.count( ))  "
   ]
  },
  {
   "cell_type": "code",
   "execution_count": 24,
   "metadata": {},
   "outputs": [
    {
     "data": {
      "text/plain": [
       "0    I like Java\n",
       "1       I like C\n",
       "2     I like C++\n",
       "3            NaN\n",
       "dtype: object"
      ]
     },
     "execution_count": 24,
     "metadata": {},
     "output_type": "execute_result"
    }
   ],
   "source": [
    "a = pd.Series(['Java', 'C', 'C++', np.nan])  \n",
    "a.map({'Java': 'Core'})  \n",
    "a.map('I like {}'.format, na_action='ignore') "
   ]
  },
  {
   "cell_type": "code",
   "execution_count": null,
   "metadata": {},
   "outputs": [
    {
     "name": "stdout",
     "output_type": "stream",
     "text": [
      "a    1\n",
      "b    2\n",
      "c    3\n",
      "dtype: object\n"
     ]
    }
   ],
   "source": [
    "a=pd.Series({\"a\":\"1\",\"b\":\"2\",\"c\":\"3\"})\n",
    "print(a)"
   ]
  },
  {
   "cell_type": "code",
   "execution_count": 28,
   "metadata": {},
   "outputs": [
    {
     "name": "stdout",
     "output_type": "stream",
     "text": [
      "2.1147629234082532\n",
      "10.077252622027656\n"
     ]
    }
   ],
   "source": [
    "print(np.std([4,7,2,1,6,3]))  \n",
    "print(np.std([6,9,15,2,-17,15,4]))  "
   ]
  },
  {
   "cell_type": "code",
   "execution_count": 29,
   "metadata": {},
   "outputs": [
    {
     "data": {
      "text/html": [
       "<div>\n",
       "<style scoped>\n",
       "    .dataframe tbody tr th:only-of-type {\n",
       "        vertical-align: middle;\n",
       "    }\n",
       "\n",
       "    .dataframe tbody tr th {\n",
       "        vertical-align: top;\n",
       "    }\n",
       "\n",
       "    .dataframe thead th {\n",
       "        text-align: right;\n",
       "    }\n",
       "</style>\n",
       "<table border=\"1\" class=\"dataframe\">\n",
       "  <thead>\n",
       "    <tr style=\"text-align: right;\">\n",
       "      <th></th>\n",
       "      <th>vals</th>\n",
       "    </tr>\n",
       "  </thead>\n",
       "  <tbody>\n",
       "    <tr>\n",
       "      <th>0</th>\n",
       "      <td>a</td>\n",
       "    </tr>\n",
       "    <tr>\n",
       "      <th>1</th>\n",
       "      <td>b</td>\n",
       "    </tr>\n",
       "    <tr>\n",
       "      <th>2</th>\n",
       "      <td>c</td>\n",
       "    </tr>\n",
       "  </tbody>\n",
       "</table>\n",
       "</div>"
      ],
      "text/plain": [
       "  vals\n",
       "0    a\n",
       "1    b\n",
       "2    c"
      ]
     },
     "execution_count": 29,
     "metadata": {},
     "output_type": "execute_result"
    }
   ],
   "source": [
    "#series to frame\n",
    "s = pd.Series([\"a\", \"b\", \"c\"],  \n",
    "name=\"vals\")  \n",
    "s.to_frame()  "
   ]
  },
  {
   "cell_type": "code",
   "execution_count": 30,
   "metadata": {},
   "outputs": [
    {
     "name": "stdout",
     "output_type": "stream",
     "text": [
      "       Emp   ID\n",
      "0   Parker  102\n",
      "1     John  107\n",
      "2    Smith  109\n",
      "3  William  114\n"
     ]
    }
   ],
   "source": [
    "emp = ['Parker', 'John', 'Smith', 'William']   \n",
    "id = [102, 107, 109, 114]     \n",
    "emp_series = pd.Series(emp)   \n",
    "id_series = pd.Series(id)     \n",
    "frame = { 'Emp': emp_series, 'ID': id_series }   \n",
    "result = pd.DataFrame(frame)     \n",
    "print(result)  \n"
   ]
  },
  {
   "cell_type": "code",
   "execution_count": null,
   "metadata": {},
   "outputs": [
    {
     "data": {
      "text/plain": [
       "array([2, 1, 3], dtype=int64)"
      ]
     },
     "execution_count": 31,
     "metadata": {},
     "output_type": "execute_result"
    }
   ],
   "source": [
    "pd.unique(pd.Series([2, 1, 3, 3]))"
   ]
  },
  {
   "cell_type": "code",
   "execution_count": 32,
   "metadata": {},
   "outputs": [
    {
     "data": {
      "text/plain": [
       "1.0    2\n",
       "2.0    1\n",
       "3.0    1\n",
       "Name: count, dtype: int64"
      ]
     },
     "execution_count": 32,
     "metadata": {},
     "output_type": "execute_result"
    }
   ],
   "source": [
    "index = pd.Index([2, 1, 1, np.nan, 3])  \n",
    "index.value_counts() "
   ]
  },
  {
   "cell_type": "code",
   "execution_count": 33,
   "metadata": {},
   "outputs": [
    {
     "name": "stdout",
     "output_type": "stream",
     "text": [
      "Empty DataFrame\n",
      "Columns: []\n",
      "Index: []\n"
     ]
    }
   ],
   "source": [
    "df = pd.DataFrame()  \n",
    "print (df)"
   ]
  },
  {
   "cell_type": "code",
   "execution_count": 34,
   "metadata": {},
   "outputs": [
    {
     "name": "stdout",
     "output_type": "stream",
     "text": [
      "        0\n",
      "0  Python\n",
      "1  Pandas\n"
     ]
    }
   ],
   "source": [
    "x = ['Python', 'Pandas']\n",
    "df = pd.DataFrame(x)  \n",
    "print(df)  \n"
   ]
  },
  {
   "cell_type": "code",
   "execution_count": 35,
   "metadata": {},
   "outputs": [
    {
     "name": "stdout",
     "output_type": "stream",
     "text": [
      "    ID Department\n",
      "0  101       B.Sc\n",
      "1  102     B.Tech\n",
      "2  103     M.Tech\n"
     ]
    }
   ],
   "source": [
    "info = {'ID' :[101, 102, 103],'Department' :['B.Sc','B.Tech','M.Tech',]}  \n",
    "df = pd.DataFrame(info)  \n",
    "print (df) "
   ]
  },
  {
   "cell_type": "code",
   "execution_count": 36,
   "metadata": {},
   "outputs": [
    {
     "name": "stdout",
     "output_type": "stream",
     "text": [
      "   one  two\n",
      "a  1.0    1\n",
      "b  2.0    2\n",
      "c  3.0    3\n",
      "d  4.0    4\n",
      "e  5.0    5\n",
      "f  6.0    6\n",
      "g  NaN    7\n",
      "h  NaN    8\n"
     ]
    }
   ],
   "source": [
    "info = {'one' : pd.Series([1, 2, 3, 4, 5, 6], index=['a', 'b', 'c', 'd', 'e', 'f']),'two' : pd.Series([1, 2, 3, 4, 5, 6, 7, 8], index=['a', 'b', 'c', 'd', 'e', 'f', 'g', 'h'])}\n",
    "d1 = pd.DataFrame(info)  \n",
    "print (d1)  "
   ]
  },
  {
   "cell_type": "code",
   "execution_count": 37,
   "metadata": {},
   "outputs": [
    {
     "name": "stdout",
     "output_type": "stream",
     "text": [
      "a    1.0\n",
      "b    2.0\n",
      "c    3.0\n",
      "d    4.0\n",
      "e    5.0\n",
      "f    6.0\n",
      "g    NaN\n",
      "h    NaN\n",
      "Name: one, dtype: float64\n"
     ]
    }
   ],
   "source": [
    "print (d1 ['one'])"
   ]
  },
  {
   "cell_type": "code",
   "execution_count": 42,
   "metadata": {},
   "outputs": [
    {
     "name": "stdout",
     "output_type": "stream",
     "text": [
      "Add new column by passing series\n",
      "   one  two  three\n",
      "a  1.0    1   20.0\n",
      "b  2.0    2   40.0\n",
      "c  3.0    3   60.0\n",
      "d  4.0    4    NaN\n",
      "e  5.0    5    NaN\n",
      "f  NaN    6    NaN\n",
      "Add new column using existing DataFrame columns\n",
      "   one  two  three  four\n",
      "a  1.0    1   20.0  21.0\n",
      "b  2.0    2   40.0  42.0\n",
      "c  3.0    3   60.0  63.0\n",
      "d  4.0    4    NaN   NaN\n",
      "e  5.0    5    NaN   NaN\n",
      "f  NaN    6    NaN   NaN\n",
      "   two  three  four\n",
      "a    1   20.0  21.0\n",
      "b    2   40.0  42.0\n",
      "c    3   60.0  63.0\n",
      "d    4    NaN   NaN\n",
      "e    5    NaN   NaN\n",
      "f    6    NaN   NaN\n",
      "two      4.0\n",
      "three    NaN\n",
      "four     NaN\n",
      "Name: d, dtype: float64\n"
     ]
    }
   ],
   "source": [
    "info = {'one' : pd.Series([1, 2, 3, 4, 5], index=['a', 'b', 'c', 'd', 'e']),'two' : pd.Series([1, 2, 3, 4, 5, 6], index=['a', 'b', 'c', 'd', 'e', 'f'])}  \n",
    "df = pd.DataFrame(info)  \n",
    "# Add a new column to an existing DataFrame object   \n",
    "print (\"Add new column by passing series\")  \n",
    "df['three']=pd.Series([20,40,60],index=['a','b','c'])  \n",
    "print (df)  \n",
    "print (\"Add new column using existing DataFrame columns\")  \n",
    "df['four']=df['one']+df['three']  \n",
    "print (df)\n",
    "del df['one']  \n",
    "print (df)\n",
    "print (df.iloc[3])  \n"
   ]
  },
  {
   "cell_type": "code",
   "execution_count": null,
   "metadata": {},
   "outputs": [],
   "source": [
    "a_info = pd.DataFrame([[4, 5], [6, 7]], columns = ['x','y'])  \n",
    "b_info = pd.DataFrame([[8, 9], [10, 11]], columns = ['x','y'])\n",
    "a_info._append(b_info)\n",
    "a_info = a_info.drop(0)\n",
    "xxxxxxxxxxxxx\n"
   ]
  },
  {
   "cell_type": "code",
   "execution_count": null,
   "metadata": {},
   "outputs": [],
   "source": []
  }
 ],
 "metadata": {
  "kernelspec": {
   "display_name": "Python 3",
   "language": "python",
   "name": "python3"
  },
  "language_info": {
   "codemirror_mode": {
    "name": "ipython",
    "version": 3
   },
   "file_extension": ".py",
   "mimetype": "text/x-python",
   "name": "python",
   "nbconvert_exporter": "python",
   "pygments_lexer": "ipython3",
   "version": "3.11.5"
  }
 },
 "nbformat": 4,
 "nbformat_minor": 2
}
